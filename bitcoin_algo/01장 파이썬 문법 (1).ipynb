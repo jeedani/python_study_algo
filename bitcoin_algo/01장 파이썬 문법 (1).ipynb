{
 "cells": [
  {
   "cell_type": "markdown",
   "metadata": {},
   "source": [
    "## 01-2 변수와 문자열"
   ]
  },
  {
   "cell_type": "markdown",
   "metadata": {},
   "source": [
    "### 연습문제 1)"
   ]
  },
  {
   "cell_type": "code",
   "execution_count": 1,
   "metadata": {},
   "outputs": [
    {
     "name": "stdout",
     "output_type": "stream",
     "text": [
      "97745730\n"
     ]
    }
   ],
   "source": [
    "bitcoin = 9744000\n",
    "ripple = 711\n",
    "my_portfolio = bitcoin * 10 + ripple *430\n",
    "\n",
    "print(my_portfolio)\n"
   ]
  },
  {
   "cell_type": "code",
   "execution_count": 2,
   "metadata": {},
   "outputs": [
    {
     "name": "stdout",
     "output_type": "stream",
     "text": [
      "et\n",
      "et\n",
      "bt\n"
     ]
    }
   ],
   "source": [
    "currency1 = \"etc_krw\"\n",
    "currency2 = \"eth_krw\"\n",
    "currency3 = \"btc_krw\"\n",
    "\n",
    "print(currency1[:2])\n",
    "print(currency2[:2])\n",
    "print(currency3[:2])"
   ]
  },
  {
   "cell_type": "code",
   "execution_count": 3,
   "metadata": {},
   "outputs": [
    {
     "name": "stdout",
     "output_type": "stream",
     "text": [
      "etc\n",
      "eth\n",
      "btc\n"
     ]
    }
   ],
   "source": [
    "currency1 = \"etc_krw\"\n",
    "currency2 = \"eth_krw\"\n",
    "currency3 = \"btc_krw\"\n",
    "\n",
    "print(currency1[:3])\n",
    "print(currency2[:3])\n",
    "print(currency3[:3])"
   ]
  },
  {
   "cell_type": "code",
   "execution_count": null,
   "metadata": {},
   "outputs": [],
   "source": []
  }
 ],
 "metadata": {
  "kernelspec": {
   "display_name": "Python 3",
   "language": "python",
   "name": "python3"
  },
  "language_info": {
   "codemirror_mode": {
    "name": "ipython",
    "version": 3
   },
   "file_extension": ".py",
   "mimetype": "text/x-python",
   "name": "python",
   "nbconvert_exporter": "python",
   "pygments_lexer": "ipython3",
   "version": "3.7.3"
  }
 },
 "nbformat": 4,
 "nbformat_minor": 2
}
